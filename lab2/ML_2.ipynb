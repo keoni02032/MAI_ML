{
  "nbformat": 4,
  "nbformat_minor": 0,
  "metadata": {
    "colab": {
      "name": "ML_2.ipynb",
      "provenance": [],
      "collapsed_sections": []
    },
    "kernelspec": {
      "name": "python3",
      "display_name": "Python 3"
    },
    "language_info": {
      "name": "python"
    }
  },
  "cells": [
    {
      "cell_type": "code",
      "metadata": {
        "id": "OJRPEin_CGi0"
      },
      "source": [
        "import pandas as pd\n",
        "import numpy as np\n",
        "import seaborn as sns\n",
        "import matplotlib.pyplot as plt\n",
        "\n",
        "from sklearn.metrics import accuracy_score\n",
        "from sklearn.model_selection import train_test_split\n",
        "from sklearn.linear_model import LogisticRegression\n",
        "from sklearn.tree import DecisionTreeClassifier\n",
        "from sklearn.ensemble import RandomForestClassifier"
      ],
      "execution_count": 1,
      "outputs": []
    },
    {
      "cell_type": "code",
      "metadata": {
        "id": "VWfoyUnnCNBf"
      },
      "source": [
        "df = pd.read_csv('./mushrooms.csv')"
      ],
      "execution_count": 2,
      "outputs": []
    },
    {
      "cell_type": "code",
      "metadata": {
        "id": "Cl8Lea6RTR-c"
      },
      "source": [
        "df = df.drop(columns=['veil-type'])\n",
        "df = df.drop(columns=['odor'])\n",
        "df = df.drop(columns=['cap-shape'])\n",
        "df = df.drop(columns=['cap-surface'])\n",
        "df = df.drop(columns=['cap-color'])\n",
        "df = df.drop(columns=['gill-attachment'])\n",
        "df = df.drop(columns=['stalk-root'])\n",
        "df = df.drop(columns=['stalk-surface-above-ring'])\n",
        "df = df.drop(columns=['stalk-surface-below-ring'])\n",
        "df = df.drop(columns=['stalk-color-above-ring'])\n",
        "df = df.drop(columns=['gill-color'])\n",
        "df = df.drop(columns=['stalk-color-below-ring'])\n",
        "df = df.drop(columns=['veil-color'])\n",
        "df = df.drop(columns=['ring-type'])\n",
        "df = df.drop(columns=['spore-print-color'])\n",
        "df = df.drop(columns=['population'])\n",
        "df = df.drop(columns=['habitat'])"
      ],
      "execution_count": 3,
      "outputs": []
    },
    {
      "cell_type": "code",
      "metadata": {
        "id": "w50efn_GDEkn"
      },
      "source": [
        "cla = {'e': 0, 'p': 1}\n",
        "bruises = {'t': 0, 'f': 1}\n",
        "g_spacing = {'c': 0, 'w': 1, 'd': 2}\n",
        "g_size = {'b': 0, 'n': 1}\n",
        "s_shape = {'e': 0, 't': 1}\n",
        "r_number = {'n': 0, 'o': 1, 't': 2}\n",
        "\n",
        "for df_d in [df]:\n",
        "    df_d['class'] = df_d['class'].map(cla)\n",
        "    df_d['bruises'] = df_d['bruises'].map(bruises)\n",
        "    df_d['gill-spacing'] = df_d['gill-spacing'].map(g_spacing)\n",
        "    df_d['gill-size'] = df_d['gill-size'].map(g_size)\n",
        "    df_d['stalk-shape'] = df_d['stalk-shape'].map(s_shape)\n",
        "    df_d['ring-number'] = df_d['ring-number'].map(r_number)"
      ],
      "execution_count": 4,
      "outputs": []
    },
    {
      "cell_type": "code",
      "metadata": {
        "colab": {
          "base_uri": "https://localhost:8080/",
          "height": 418
        },
        "id": "FJMDR1e4DM0v",
        "outputId": "dfd11b1a-3d12-4689-aafa-988e1c5dd3ec"
      },
      "source": [
        "df"
      ],
      "execution_count": 5,
      "outputs": [
        {
          "output_type": "execute_result",
          "data": {
            "text/html": [
              "<div>\n",
              "<style scoped>\n",
              "    .dataframe tbody tr th:only-of-type {\n",
              "        vertical-align: middle;\n",
              "    }\n",
              "\n",
              "    .dataframe tbody tr th {\n",
              "        vertical-align: top;\n",
              "    }\n",
              "\n",
              "    .dataframe thead th {\n",
              "        text-align: right;\n",
              "    }\n",
              "</style>\n",
              "<table border=\"1\" class=\"dataframe\">\n",
              "  <thead>\n",
              "    <tr style=\"text-align: right;\">\n",
              "      <th></th>\n",
              "      <th>class</th>\n",
              "      <th>bruises</th>\n",
              "      <th>gill-spacing</th>\n",
              "      <th>gill-size</th>\n",
              "      <th>stalk-shape</th>\n",
              "      <th>ring-number</th>\n",
              "    </tr>\n",
              "  </thead>\n",
              "  <tbody>\n",
              "    <tr>\n",
              "      <th>0</th>\n",
              "      <td>1</td>\n",
              "      <td>0</td>\n",
              "      <td>0</td>\n",
              "      <td>1</td>\n",
              "      <td>0</td>\n",
              "      <td>1</td>\n",
              "    </tr>\n",
              "    <tr>\n",
              "      <th>1</th>\n",
              "      <td>0</td>\n",
              "      <td>0</td>\n",
              "      <td>0</td>\n",
              "      <td>0</td>\n",
              "      <td>0</td>\n",
              "      <td>1</td>\n",
              "    </tr>\n",
              "    <tr>\n",
              "      <th>2</th>\n",
              "      <td>0</td>\n",
              "      <td>0</td>\n",
              "      <td>0</td>\n",
              "      <td>0</td>\n",
              "      <td>0</td>\n",
              "      <td>1</td>\n",
              "    </tr>\n",
              "    <tr>\n",
              "      <th>3</th>\n",
              "      <td>1</td>\n",
              "      <td>0</td>\n",
              "      <td>0</td>\n",
              "      <td>1</td>\n",
              "      <td>0</td>\n",
              "      <td>1</td>\n",
              "    </tr>\n",
              "    <tr>\n",
              "      <th>4</th>\n",
              "      <td>0</td>\n",
              "      <td>1</td>\n",
              "      <td>1</td>\n",
              "      <td>0</td>\n",
              "      <td>1</td>\n",
              "      <td>1</td>\n",
              "    </tr>\n",
              "    <tr>\n",
              "      <th>...</th>\n",
              "      <td>...</td>\n",
              "      <td>...</td>\n",
              "      <td>...</td>\n",
              "      <td>...</td>\n",
              "      <td>...</td>\n",
              "      <td>...</td>\n",
              "    </tr>\n",
              "    <tr>\n",
              "      <th>8119</th>\n",
              "      <td>0</td>\n",
              "      <td>1</td>\n",
              "      <td>0</td>\n",
              "      <td>0</td>\n",
              "      <td>0</td>\n",
              "      <td>1</td>\n",
              "    </tr>\n",
              "    <tr>\n",
              "      <th>8120</th>\n",
              "      <td>0</td>\n",
              "      <td>1</td>\n",
              "      <td>0</td>\n",
              "      <td>0</td>\n",
              "      <td>0</td>\n",
              "      <td>1</td>\n",
              "    </tr>\n",
              "    <tr>\n",
              "      <th>8121</th>\n",
              "      <td>0</td>\n",
              "      <td>1</td>\n",
              "      <td>0</td>\n",
              "      <td>0</td>\n",
              "      <td>0</td>\n",
              "      <td>1</td>\n",
              "    </tr>\n",
              "    <tr>\n",
              "      <th>8122</th>\n",
              "      <td>1</td>\n",
              "      <td>1</td>\n",
              "      <td>0</td>\n",
              "      <td>1</td>\n",
              "      <td>1</td>\n",
              "      <td>1</td>\n",
              "    </tr>\n",
              "    <tr>\n",
              "      <th>8123</th>\n",
              "      <td>0</td>\n",
              "      <td>1</td>\n",
              "      <td>0</td>\n",
              "      <td>0</td>\n",
              "      <td>0</td>\n",
              "      <td>1</td>\n",
              "    </tr>\n",
              "  </tbody>\n",
              "</table>\n",
              "<p>8124 rows × 6 columns</p>\n",
              "</div>"
            ],
            "text/plain": [
              "      class  bruises  gill-spacing  gill-size  stalk-shape  ring-number\n",
              "0         1        0             0          1            0            1\n",
              "1         0        0             0          0            0            1\n",
              "2         0        0             0          0            0            1\n",
              "3         1        0             0          1            0            1\n",
              "4         0        1             1          0            1            1\n",
              "...     ...      ...           ...        ...          ...          ...\n",
              "8119      0        1             0          0            0            1\n",
              "8120      0        1             0          0            0            1\n",
              "8121      0        1             0          0            0            1\n",
              "8122      1        1             0          1            1            1\n",
              "8123      0        1             0          0            0            1\n",
              "\n",
              "[8124 rows x 6 columns]"
            ]
          },
          "metadata": {},
          "execution_count": 5
        }
      ]
    },
    {
      "cell_type": "code",
      "metadata": {
        "id": "vOvZg6QdDN0K"
      },
      "source": [
        "X_train, X_test, Y_train, Y_test = train_test_split(df.drop('class', axis=1), df['class'], test_size=0.2, random_state=42)"
      ],
      "execution_count": 6,
      "outputs": []
    },
    {
      "cell_type": "code",
      "metadata": {
        "id": "yFKdZkkqM2HN"
      },
      "source": [
        "X_test = X_test.to_numpy()\n",
        "X_train = X_train.to_numpy()\n",
        "Y_test = Y_test.to_numpy()\n",
        "Y_train = Y_train.to_numpy()"
      ],
      "execution_count": 7,
      "outputs": []
    },
    {
      "cell_type": "markdown",
      "metadata": {
        "id": "wZflc2w819s2"
      },
      "source": [
        "### Метрики"
      ]
    },
    {
      "cell_type": "code",
      "metadata": {
        "id": "d7HGFfxS16YE"
      },
      "source": [
        "def mymetrics(matrix):\n",
        "    tp = matrix.loc['predicted_1', 'actual_1']\n",
        "    fp = matrix.loc['predicted_1', 'actual_0']\n",
        "    fn = matrix.loc['predicted_0', 'actual_1']\n",
        "    tn = matrix.loc['predicted_0', 'actual_0']\n",
        "\n",
        "    accuracy = (tp + tn) / (tp + tn + fp + fn)\n",
        "    precision = tp / (tp + fp)\n",
        "    recall = tp / (tp + fn)\n",
        "\n",
        "    return accuracy, precision, recall\n",
        "\n",
        "def confusion_matrix(y_pred, y_test):\n",
        "    matrix = pd.DataFrame({'actual_1' : [0, 0], 'actual_0': [0, 0]})\n",
        "    matrix.index = ['predicted_1', 'predicted_0']\n",
        "\n",
        "    for i in range(len(y_pred)):\n",
        "        if y_pred[i] == 1 and y_test[i] == 1:\n",
        "            matrix.loc['predicted_1', 'actual_1'] += 1\n",
        "        elif y_pred[i] == 1 and y_test[i] == 0:\n",
        "            matrix.loc['predicted_1', 'actual_0'] += 1\n",
        "        elif y_pred[i] == 0 and y_test[i] == 1:\n",
        "            matrix.loc['predicted_0', 'actual_1'] += 1\n",
        "        else:\n",
        "            matrix.loc['predicted_0', 'actual_0'] += 1\n",
        "    return matrix"
      ],
      "execution_count": 8,
      "outputs": []
    },
    {
      "cell_type": "markdown",
      "metadata": {
        "id": "2gtptHFuEnND"
      },
      "source": [
        "### Логистическая регрессия"
      ]
    },
    {
      "cell_type": "code",
      "metadata": {
        "id": "klCcnN0oDpBu"
      },
      "source": [
        "def sigmoid(z):\n",
        "  return 1 / (1 + np.exp(-z))\n",
        "\n",
        "class LogisticRegressor:\n",
        "  def __init__(self):\n",
        "    self.loss = []\n",
        "\n",
        "  def count_loss(self, x, y):\n",
        "    z = np.dot(x, self.weights)\n",
        "    predicted_true = y * np.log(sigmoid(z))\n",
        "    predicted_false = (1 - y) * np.log(1 - sigmoid(z))\n",
        "    return -np.sum(predicted_true + predicted_false) / x.shape[0]\n",
        "\n",
        "  def fit(self, x, y, nepoch = 1000, lr = 0.01, log_loss = False):\n",
        "    self.weights = np.random.rand(x.shape[1])\n",
        "    for _ in range(nepoch):\n",
        "      predicted = sigmoid(np.dot(x, self.weights))\n",
        "      self.weights -= lr * np.dot(x.T, predicted - y) / x.shape[0]\n",
        "      if log_loss:\n",
        "        self.loss.append(self.count_loss(x, y))\n",
        "\n",
        "  def predict(self, x):\n",
        "    prediction = np.dot(x, self.weights)\n",
        "    return [1 if predict > 0.5 else 0 for predict in sigmoid(prediction)]"
      ],
      "execution_count": 9,
      "outputs": []
    },
    {
      "cell_type": "code",
      "metadata": {
        "colab": {
          "base_uri": "https://localhost:8080/"
        },
        "id": "oFv7FOEeEyJU",
        "outputId": "a39fc26c-d940-4663-c6b7-84475ab46347"
      },
      "source": [
        "lgr = LogisticRegressor()\n",
        "lgr.fit(X_train, Y_train)\n",
        "predicted = lgr.predict(X_test)\n",
        "accuracy_score(predicted, Y_test)"
      ],
      "execution_count": 10,
      "outputs": [
        {
          "output_type": "execute_result",
          "data": {
            "text/plain": [
              "0.8843076923076924"
            ]
          },
          "metadata": {},
          "execution_count": 10
        }
      ]
    },
    {
      "cell_type": "code",
      "metadata": {
        "colab": {
          "base_uri": "https://localhost:8080/"
        },
        "id": "g0LmGn1vE-zl",
        "outputId": "c530fb94-ca6b-486b-cf8b-ed3f804f7b98"
      },
      "source": [
        "lr = LogisticRegression()\n",
        "lr.fit(X_train, Y_train)\n",
        "predicted = lr.predict(X_test)\n",
        "accuracy_score(predicted, Y_test)"
      ],
      "execution_count": 11,
      "outputs": [
        {
          "output_type": "execute_result",
          "data": {
            "text/plain": [
              "0.8947692307692308"
            ]
          },
          "metadata": {},
          "execution_count": 11
        }
      ]
    },
    {
      "cell_type": "code",
      "metadata": {
        "colab": {
          "base_uri": "https://localhost:8080/"
        },
        "id": "fhvwVwvQFGNf",
        "outputId": "06b7788b-e9db-486c-d0da-aa2bd45cf1c7"
      },
      "source": [
        "hyperparameters = [\n",
        "(0.1, 500), \n",
        "(0.1, 1000), \n",
        "(0.1, 1500),\n",
        "(0.01, 5000),\n",
        "(0.01, 10000),\n",
        "(0.001, 5000),\n",
        "(0.001, 10000),\n",
        "(0.001, 15000)\n",
        "]\n",
        "\n",
        "for pair in hyperparameters:\n",
        "    lr, nepoch = pair\n",
        "    lgr = LogisticRegressor()\n",
        "    lgr.fit(X_train, Y_train, nepoch = nepoch, lr = lr)\n",
        "    predicted_test = lgr.predict(X_test)\n",
        "    predicted_train = lgr.predict(X_train)\n",
        "    print(f'Learning rate = {lr}, nepoch = {nepoch}, train accuracy = {accuracy_score(Y_train, predicted_train)}, test accuracy = {accuracy_score(Y_test, predicted_test)}')"
      ],
      "execution_count": 12,
      "outputs": [
        {
          "output_type": "stream",
          "name": "stdout",
          "text": [
            "Learning rate = 0.1, nepoch = 500, train accuracy = 0.909216802585013, test accuracy = 0.9003076923076923\n",
            "Learning rate = 0.1, nepoch = 1000, train accuracy = 0.9072164948453608, test accuracy = 0.8984615384615384\n",
            "Learning rate = 0.1, nepoch = 1500, train accuracy = 0.9072164948453608, test accuracy = 0.8984615384615384\n",
            "Learning rate = 0.01, nepoch = 5000, train accuracy = 0.909216802585013, test accuracy = 0.9003076923076923\n",
            "Learning rate = 0.01, nepoch = 10000, train accuracy = 0.909216802585013, test accuracy = 0.9003076923076923\n",
            "Learning rate = 0.001, nepoch = 5000, train accuracy = 0.7688875211571011, test accuracy = 0.7575384615384615\n",
            "Learning rate = 0.001, nepoch = 10000, train accuracy = 0.9102938913679027, test accuracy = 0.9009230769230769\n",
            "Learning rate = 0.001, nepoch = 15000, train accuracy = 0.9102938913679027, test accuracy = 0.9009230769230769\n"
          ]
        }
      ]
    },
    {
      "cell_type": "markdown",
      "metadata": {
        "id": "_GFo4Bo-7T6d"
      },
      "source": [
        "### Самописные метрики"
      ]
    },
    {
      "cell_type": "code",
      "metadata": {
        "id": "hr2Q8dXMFR6t"
      },
      "source": [
        "logit = LogisticRegressor()\n",
        "logit.fit(X_train, Y_train, nepoch = 5000, lr = 0.01)\n",
        "Y_pred = logit.predict(X_test)"
      ],
      "execution_count": 13,
      "outputs": []
    },
    {
      "cell_type": "code",
      "metadata": {
        "colab": {
          "base_uri": "https://localhost:8080/"
        },
        "id": "-gEYYj9e5-4j",
        "outputId": "dc909893-f876-4092-b883-0b2325a4e4c0"
      },
      "source": [
        "met = mymetrics(confusion_matrix(Y_pred, Y_test))\n",
        "print(f'Accuracy: {met[0]}\\nPrecision: {met[1]}\\nRecall: {met[2]}')"
      ],
      "execution_count": 14,
      "outputs": [
        {
          "output_type": "stream",
          "name": "stdout",
          "text": [
            "Accuracy: 0.9003076923076923\n",
            "Precision: 0.8904282115869018\n",
            "Recall: 0.9040920716112532\n"
          ]
        }
      ]
    },
    {
      "cell_type": "code",
      "metadata": {
        "colab": {
          "base_uri": "https://localhost:8080/",
          "height": 111
        },
        "id": "O4CssqT-5-_1",
        "outputId": "1956e977-3c6a-46ab-fc01-1c2752716db6"
      },
      "source": [
        "confusion_matrix(Y_pred, Y_test)"
      ],
      "execution_count": 15,
      "outputs": [
        {
          "output_type": "execute_result",
          "data": {
            "text/html": [
              "<div>\n",
              "<style scoped>\n",
              "    .dataframe tbody tr th:only-of-type {\n",
              "        vertical-align: middle;\n",
              "    }\n",
              "\n",
              "    .dataframe tbody tr th {\n",
              "        vertical-align: top;\n",
              "    }\n",
              "\n",
              "    .dataframe thead th {\n",
              "        text-align: right;\n",
              "    }\n",
              "</style>\n",
              "<table border=\"1\" class=\"dataframe\">\n",
              "  <thead>\n",
              "    <tr style=\"text-align: right;\">\n",
              "      <th></th>\n",
              "      <th>actual_1</th>\n",
              "      <th>actual_0</th>\n",
              "    </tr>\n",
              "  </thead>\n",
              "  <tbody>\n",
              "    <tr>\n",
              "      <th>predicted_1</th>\n",
              "      <td>707</td>\n",
              "      <td>87</td>\n",
              "    </tr>\n",
              "    <tr>\n",
              "      <th>predicted_0</th>\n",
              "      <td>75</td>\n",
              "      <td>756</td>\n",
              "    </tr>\n",
              "  </tbody>\n",
              "</table>\n",
              "</div>"
            ],
            "text/plain": [
              "             actual_1  actual_0\n",
              "predicted_1       707        87\n",
              "predicted_0        75       756"
            ]
          },
          "metadata": {},
          "execution_count": 15
        }
      ]
    },
    {
      "cell_type": "markdown",
      "metadata": {
        "id": "v1hc1TaB7efb"
      },
      "source": [
        "### Метрики из sklearn"
      ]
    },
    {
      "cell_type": "code",
      "metadata": {
        "id": "Kzg3BuFL7kz0"
      },
      "source": [
        "model = LogisticRegression()\n",
        "model.fit(X_train, Y_train)\n",
        "Y_pred = model.predict(X_test)"
      ],
      "execution_count": 24,
      "outputs": []
    },
    {
      "cell_type": "code",
      "metadata": {
        "colab": {
          "base_uri": "https://localhost:8080/"
        },
        "id": "2P2bbU7Z8Lpn",
        "outputId": "693cb2dc-5418-4810-8285-5430a835f87b"
      },
      "source": [
        "met = mymetrics(confusion_matrix(Y_pred, Y_test))\n",
        "print(f'Accuracy: {met[0]}\\nPrecision: {met[1]}\\nRecall: {met[2]}')"
      ],
      "execution_count": 27,
      "outputs": [
        {
          "output_type": "stream",
          "name": "stdout",
          "text": [
            "Accuracy: 0.8947692307692308\n",
            "Precision: 0.8983050847457628\n",
            "Recall: 0.881074168797954\n"
          ]
        }
      ]
    },
    {
      "cell_type": "code",
      "metadata": {
        "colab": {
          "base_uri": "https://localhost:8080/",
          "height": 111
        },
        "id": "CAqCn5DC8o6K",
        "outputId": "0a74ecb6-aa4e-4fa7-d0e0-8cd298423d34"
      },
      "source": [
        "confusion_matrix(Y_pred, Y_test)"
      ],
      "execution_count": 28,
      "outputs": [
        {
          "output_type": "execute_result",
          "data": {
            "text/html": [
              "<div>\n",
              "<style scoped>\n",
              "    .dataframe tbody tr th:only-of-type {\n",
              "        vertical-align: middle;\n",
              "    }\n",
              "\n",
              "    .dataframe tbody tr th {\n",
              "        vertical-align: top;\n",
              "    }\n",
              "\n",
              "    .dataframe thead th {\n",
              "        text-align: right;\n",
              "    }\n",
              "</style>\n",
              "<table border=\"1\" class=\"dataframe\">\n",
              "  <thead>\n",
              "    <tr style=\"text-align: right;\">\n",
              "      <th></th>\n",
              "      <th>actual_1</th>\n",
              "      <th>actual_0</th>\n",
              "    </tr>\n",
              "  </thead>\n",
              "  <tbody>\n",
              "    <tr>\n",
              "      <th>predicted_1</th>\n",
              "      <td>689</td>\n",
              "      <td>78</td>\n",
              "    </tr>\n",
              "    <tr>\n",
              "      <th>predicted_0</th>\n",
              "      <td>93</td>\n",
              "      <td>765</td>\n",
              "    </tr>\n",
              "  </tbody>\n",
              "</table>\n",
              "</div>"
            ],
            "text/plain": [
              "             actual_1  actual_0\n",
              "predicted_1       689        78\n",
              "predicted_0        93       765"
            ]
          },
          "metadata": {},
          "execution_count": 28
        }
      ]
    },
    {
      "cell_type": "markdown",
      "metadata": {
        "id": "pX8wY2sOFbXe"
      },
      "source": [
        "### Дерево решений"
      ]
    },
    {
      "cell_type": "code",
      "metadata": {
        "id": "pAl5GodXFuAX"
      },
      "source": [
        "class Node:\n",
        "  def __init__(self, index = None, value = None, left = None, right = None, gain = 0, predicted = None):\n",
        "    self.index = index\n",
        "    self.value = value\n",
        "    self.left = left\n",
        "    self.right = right\n",
        "    self.gain = gain\n",
        "    self.predicted = predicted\n",
        "\n",
        "\n",
        "class ClassifyingDecisionTree:\n",
        "  def __init__(self, max_depth = 2, min_samples_split = 2):\n",
        "    self.max_depth = max_depth\n",
        "    self.min_samples_split = min_samples_split\n",
        "\n",
        "  def fit(self, x, y):\n",
        "    data = np.concatenate((x, y), axis=1)\n",
        "    self.root = self.build_tree(data)\n",
        "\n",
        "  def predict(self, x):\n",
        "    predicted = [self.single_prediction(obs, self.root) for obs in x]\n",
        "    return predicted\n",
        "\n",
        "  def single_prediction(self, x, node):\n",
        "    if node.predicted != None:\n",
        "      return node.predicted\n",
        "    if x[node.index] <= node.value:\n",
        "      return self.single_prediction(x, node.left)\n",
        "    else:\n",
        "      return self.single_prediction(x, node.right)\n",
        "\n",
        "  def gini(self, rows):\n",
        "    unique = np.unique(rows)\n",
        "    impurity = 1\n",
        "    for cls in unique:\n",
        "      prob = len(rows[rows == cls]) / float(len(rows))\n",
        "      impurity -= prob ** 2\n",
        "    return impurity\n",
        "\n",
        "  def gain(self, current_uncertainty, left, right):\n",
        "    p = float(len(left)) / (len(left) + len(right))\n",
        "    return current_uncertainty - p * self.gini(left) - (1 - p) * self.gini(right)\n",
        "\n",
        "  def split(self, data, index, value):\n",
        "    left = np.array([item for item in data if item[index] <= value])\n",
        "    right = np.array([item for item in data if item[index] > value])\n",
        "    return left, right\n",
        "\n",
        "  def find_split(self, data, num_features):\n",
        "    split = Node()\n",
        "    current_uncertainty = self.gini(data[:, -1])\n",
        "    for index in range(num_features):\n",
        "      values = data[:, index]\n",
        "      for value in np.unique(values):\n",
        "        left, right = self.split(data, index, value)\n",
        "        if len(left) == 0 or len(right) == 0:\n",
        "          continue\n",
        "        gain = self.gain(current_uncertainty, left[:, -1], right[:, -1])\n",
        "        if gain > split.gain:\n",
        "          split.index = index\n",
        "          split.value = value\n",
        "          split.left = left\n",
        "          split.right = right\n",
        "          split.gain = gain\n",
        "    return split\n",
        "\n",
        "  def fit1(self, x, y):\n",
        "    data = np.concatenate((x, y[:, np.newaxis]), axis=1)\n",
        "    self.root = self.build_tree(data)\n",
        "\n",
        "  def build_tree(self, data, current_depth = 0):\n",
        "    X, Y = data[:, :-1], data[:, -1]\n",
        "    num_samples, num_features = np.shape(X)\n",
        "    if num_samples >= self.min_samples_split and current_depth <= self.max_depth:\n",
        "      split = self.find_split(data, num_features)\n",
        "      if split.gain > 0:\n",
        "        left = self.build_tree(split.left, current_depth + 1)\n",
        "        right = self.build_tree(split.right, current_depth + 1)\n",
        "        split.left = left\n",
        "        split.right = right\n",
        "        return split\n",
        "    value = max(list(Y), key = list(Y).count)\n",
        "    return Node(predicted = value)"
      ],
      "execution_count": 29,
      "outputs": []
    },
    {
      "cell_type": "code",
      "metadata": {
        "colab": {
          "base_uri": "https://localhost:8080/"
        },
        "id": "TXpgFcDmF86J",
        "outputId": "fa96428e-1ddd-4e24-e4f1-4665d5d77f89"
      },
      "source": [
        "depths = [1, 2, 3]\n",
        "for depth in depths:\n",
        "  crt = ClassifyingDecisionTree(max_depth = depth)\n",
        "  crt.fit1(X_train, Y_train)\n",
        "  predicted = crt.predict(X_test)\n",
        "  print(\"Depth = {}, accuracy = {}\".format(depth, accuracy_score(predicted, Y_test)))"
      ],
      "execution_count": 30,
      "outputs": [
        {
          "output_type": "stream",
          "name": "stdout",
          "text": [
            "Depth = 1, accuracy = 0.7532307692307693\n",
            "Depth = 2, accuracy = 0.864\n",
            "Depth = 3, accuracy = 0.9046153846153846\n"
          ]
        }
      ]
    },
    {
      "cell_type": "code",
      "metadata": {
        "colab": {
          "base_uri": "https://localhost:8080/"
        },
        "id": "ICzjEJfdGBN5",
        "outputId": "a36e075e-5fd1-41c1-ecf7-2e2532f5a45d"
      },
      "source": [
        "for depth in depths:\n",
        "  sk_crt = DecisionTreeClassifier(max_depth = depth)\n",
        "  sk_crt.fit(X_train, Y_train)\n",
        "  predicted = sk_crt.predict(X_test)\n",
        "  print(\"Depth = {}, accuracy = {}\".format(depth, accuracy_score(predicted, Y_test)))"
      ],
      "execution_count": 31,
      "outputs": [
        {
          "output_type": "stream",
          "name": "stdout",
          "text": [
            "Depth = 1, accuracy = 0.7409230769230769\n",
            "Depth = 2, accuracy = 0.7532307692307693\n",
            "Depth = 3, accuracy = 0.864\n"
          ]
        }
      ]
    },
    {
      "cell_type": "markdown",
      "metadata": {
        "id": "lZGMR9T57qGr"
      },
      "source": [
        "### Самописные метрики"
      ]
    },
    {
      "cell_type": "code",
      "metadata": {
        "id": "VIpS_rlVGFVC"
      },
      "source": [
        "tree = ClassifyingDecisionTree(min_samples_split=1, max_depth=1)\n",
        "tree.fit(pd.DataFrame(X_train), pd.DataFrame(Y_train))\n",
        "Y_pred = tree.predict(X_test)"
      ],
      "execution_count": 32,
      "outputs": []
    },
    {
      "cell_type": "code",
      "metadata": {
        "colab": {
          "base_uri": "https://localhost:8080/"
        },
        "id": "xTRJWks26YOZ",
        "outputId": "866d281d-f814-410c-925c-738fc2b323f4"
      },
      "source": [
        "met = mymetrics(confusion_matrix(Y_pred, Y_test))\n",
        "print(f'Accuracy: {met[0]}\\nPrecision: {met[1]}\\nRecall: {met[2]}')"
      ],
      "execution_count": 34,
      "outputs": [
        {
          "output_type": "stream",
          "name": "stdout",
          "text": [
            "Accuracy: 0.7532307692307693\n",
            "Precision: 0.9223946784922394\n",
            "Recall: 0.5319693094629157\n"
          ]
        }
      ]
    },
    {
      "cell_type": "code",
      "metadata": {
        "colab": {
          "base_uri": "https://localhost:8080/",
          "height": 111
        },
        "id": "YkVQihul75c8",
        "outputId": "445972a2-1761-45e8-fc94-cf602feec4f0"
      },
      "source": [
        "confusion_matrix(Y_pred, Y_test)"
      ],
      "execution_count": 35,
      "outputs": [
        {
          "output_type": "execute_result",
          "data": {
            "text/html": [
              "<div>\n",
              "<style scoped>\n",
              "    .dataframe tbody tr th:only-of-type {\n",
              "        vertical-align: middle;\n",
              "    }\n",
              "\n",
              "    .dataframe tbody tr th {\n",
              "        vertical-align: top;\n",
              "    }\n",
              "\n",
              "    .dataframe thead th {\n",
              "        text-align: right;\n",
              "    }\n",
              "</style>\n",
              "<table border=\"1\" class=\"dataframe\">\n",
              "  <thead>\n",
              "    <tr style=\"text-align: right;\">\n",
              "      <th></th>\n",
              "      <th>actual_1</th>\n",
              "      <th>actual_0</th>\n",
              "    </tr>\n",
              "  </thead>\n",
              "  <tbody>\n",
              "    <tr>\n",
              "      <th>predicted_1</th>\n",
              "      <td>416</td>\n",
              "      <td>35</td>\n",
              "    </tr>\n",
              "    <tr>\n",
              "      <th>predicted_0</th>\n",
              "      <td>366</td>\n",
              "      <td>808</td>\n",
              "    </tr>\n",
              "  </tbody>\n",
              "</table>\n",
              "</div>"
            ],
            "text/plain": [
              "             actual_1  actual_0\n",
              "predicted_1       416        35\n",
              "predicted_0       366       808"
            ]
          },
          "metadata": {},
          "execution_count": 35
        }
      ]
    },
    {
      "cell_type": "markdown",
      "metadata": {
        "id": "xXazCk_w7yBT"
      },
      "source": [
        "### Метрики из sklearn"
      ]
    },
    {
      "cell_type": "code",
      "metadata": {
        "id": "U-JXhM2F6YWr"
      },
      "source": [
        "model = DecisionTreeClassifier(min_samples_split=1., max_depth=1).fit(X_train, Y_train)\n",
        "Y_pred = model.predict(X_test)"
      ],
      "execution_count": 36,
      "outputs": []
    },
    {
      "cell_type": "code",
      "metadata": {
        "colab": {
          "base_uri": "https://localhost:8080/"
        },
        "id": "KzQ5pSg16YeO",
        "outputId": "90fb12f5-3ee4-4b30-fb45-8546a47bf7bf"
      },
      "source": [
        "met = mymetrics(confusion_matrix(Y_pred, Y_test))\n",
        "print(f'Accuracy: {met[0]}\\nPrecision: {met[1]}\\nRecall: {met[2]}')"
      ],
      "execution_count": 38,
      "outputs": [
        {
          "output_type": "stream",
          "name": "stdout",
          "text": [
            "Accuracy: 0.7409230769230769\n",
            "Precision: 0.8546168958742633\n",
            "Recall: 0.5562659846547314\n"
          ]
        }
      ]
    },
    {
      "cell_type": "code",
      "metadata": {
        "colab": {
          "base_uri": "https://localhost:8080/",
          "height": 111
        },
        "id": "n1yklcyz8vKN",
        "outputId": "b07eae9d-1b08-416c-84f5-04efec86f2bd"
      },
      "source": [
        "confusion_matrix(Y_pred, Y_test)"
      ],
      "execution_count": 39,
      "outputs": [
        {
          "output_type": "execute_result",
          "data": {
            "text/html": [
              "<div>\n",
              "<style scoped>\n",
              "    .dataframe tbody tr th:only-of-type {\n",
              "        vertical-align: middle;\n",
              "    }\n",
              "\n",
              "    .dataframe tbody tr th {\n",
              "        vertical-align: top;\n",
              "    }\n",
              "\n",
              "    .dataframe thead th {\n",
              "        text-align: right;\n",
              "    }\n",
              "</style>\n",
              "<table border=\"1\" class=\"dataframe\">\n",
              "  <thead>\n",
              "    <tr style=\"text-align: right;\">\n",
              "      <th></th>\n",
              "      <th>actual_1</th>\n",
              "      <th>actual_0</th>\n",
              "    </tr>\n",
              "  </thead>\n",
              "  <tbody>\n",
              "    <tr>\n",
              "      <th>predicted_1</th>\n",
              "      <td>435</td>\n",
              "      <td>74</td>\n",
              "    </tr>\n",
              "    <tr>\n",
              "      <th>predicted_0</th>\n",
              "      <td>347</td>\n",
              "      <td>769</td>\n",
              "    </tr>\n",
              "  </tbody>\n",
              "</table>\n",
              "</div>"
            ],
            "text/plain": [
              "             actual_1  actual_0\n",
              "predicted_1       435        74\n",
              "predicted_0       347       769"
            ]
          },
          "metadata": {},
          "execution_count": 39
        }
      ]
    },
    {
      "cell_type": "markdown",
      "metadata": {
        "id": "NtVjk3yVGTIa"
      },
      "source": [
        "### Random forest"
      ]
    },
    {
      "cell_type": "code",
      "metadata": {
        "id": "wgESL1alGX3S"
      },
      "source": [
        "from collections import Counter\n",
        "\n",
        "class RandomForest:\n",
        "  def __init__(self, num_trees = 10, max_depth = 2, min_samples_split = 2):\n",
        "    self.num_trees = num_trees\n",
        "    self.max_depth = max_depth\n",
        "    self.min_samples_split = min_samples_split\n",
        "    self.forest = []\n",
        "\n",
        "  def get_sample(self, x, y):\n",
        "    random_rows = np.random.choice(a = x.shape[0], size = x.shape[0])\n",
        "    return x[random_rows], y[random_rows]\n",
        "\n",
        "  def fit(self, x, y):\n",
        "    for _ in range(self.num_trees):\n",
        "      sample_x, sample_y = self.get_sample(x, y)\n",
        "      tree = ClassifyingDecisionTree(self.max_depth, self.min_samples_split)\n",
        "      tree.fit1(sample_x, sample_y)\n",
        "      self.forest.append(tree)\n",
        "\n",
        "  def predict(self, x):\n",
        "    prediction = []\n",
        "    y = []\n",
        "    for tree in self.forest:\n",
        "      y.append(tree.predict(x))\n",
        "    y = np.swapaxes(a = y, axis1 = 0, axis2 = 1)  \n",
        "    for obs in y:\n",
        "      counter = Counter(obs)\n",
        "      prediction.append(counter.most_common(1)[0][0])\n",
        "    return prediction"
      ],
      "execution_count": 40,
      "outputs": []
    },
    {
      "cell_type": "code",
      "metadata": {
        "colab": {
          "base_uri": "https://localhost:8080/"
        },
        "id": "MkU7FQHDGbOH",
        "outputId": "d968b847-66b8-4d16-cdae-a4ffa76af836"
      },
      "source": [
        "num_trees = [2, 5, 10]\n",
        "for n in num_trees:\n",
        "  forest = RandomForest(num_trees = n)\n",
        "  forest.fit(X_train, Y_train)\n",
        "  predicted = forest.predict(X_test)\n",
        "  print(\"Number of trees = {}, accuracy = {}\".format(n, accuracy_score(predicted, Y_test)))"
      ],
      "execution_count": 41,
      "outputs": [
        {
          "output_type": "stream",
          "name": "stdout",
          "text": [
            "Number of trees = 2, accuracy = 0.8990769230769231\n",
            "Number of trees = 5, accuracy = 0.8990769230769231\n",
            "Number of trees = 10, accuracy = 0.864\n"
          ]
        }
      ]
    },
    {
      "cell_type": "code",
      "metadata": {
        "colab": {
          "base_uri": "https://localhost:8080/"
        },
        "id": "DNk_zBMsGex1",
        "outputId": "e3c62799-8267-4622-94cc-b1abd3d0557d"
      },
      "source": [
        "for n in num_trees:\n",
        "  forest = RandomForestClassifier(n_estimators = n)\n",
        "  forest.fit(X_train, Y_train)\n",
        "  predicted = forest.predict(X_test)\n",
        "  print(\"Number of trees = {}, accuracy = {}\".format(n, accuracy_score(predicted, Y_test)))"
      ],
      "execution_count": 42,
      "outputs": [
        {
          "output_type": "stream",
          "name": "stdout",
          "text": [
            "Number of trees = 2, accuracy = 0.9046153846153846\n",
            "Number of trees = 5, accuracy = 0.9046153846153846\n",
            "Number of trees = 10, accuracy = 0.9046153846153846\n"
          ]
        }
      ]
    },
    {
      "cell_type": "markdown",
      "metadata": {
        "id": "7Rhwbnh77r9a"
      },
      "source": [
        "### Самописные метрики"
      ]
    },
    {
      "cell_type": "code",
      "metadata": {
        "id": "kxqFLf9VGs5_"
      },
      "source": [
        "mytree = RandomForest(num_trees = 2)\n",
        "mytree.fit(X_train, Y_train)\n",
        "# Y_pred = mytree.predict(X_test)"
      ],
      "execution_count": 43,
      "outputs": []
    },
    {
      "cell_type": "code",
      "metadata": {
        "colab": {
          "base_uri": "https://localhost:8080/"
        },
        "id": "kliOr1Jq7zcB",
        "outputId": "8c2ea53c-69dd-4514-e44a-225062d0c3bb"
      },
      "source": [
        "met = mymetrics(confusion_matrix(mytree.predict(X_test), Y_test))\n",
        "print(f'Accuracy: {met[0]}\\nPrecision: {met[1]}\\nRecall: {met[2]}')"
      ],
      "execution_count": 44,
      "outputs": [
        {
          "output_type": "stream",
          "name": "stdout",
          "text": [
            "Accuracy: 0.8990769230769231\n",
            "Precision: 0.8872180451127819\n",
            "Recall: 0.9053708439897699\n"
          ]
        }
      ]
    },
    {
      "cell_type": "code",
      "metadata": {
        "colab": {
          "base_uri": "https://localhost:8080/",
          "height": 111
        },
        "id": "wC6LxXDI761U",
        "outputId": "2411b39d-fcce-45cd-9000-77f4be59df9e"
      },
      "source": [
        "confusion_matrix(Y_pred, Y_test)"
      ],
      "execution_count": 45,
      "outputs": [
        {
          "output_type": "execute_result",
          "data": {
            "text/html": [
              "<div>\n",
              "<style scoped>\n",
              "    .dataframe tbody tr th:only-of-type {\n",
              "        vertical-align: middle;\n",
              "    }\n",
              "\n",
              "    .dataframe tbody tr th {\n",
              "        vertical-align: top;\n",
              "    }\n",
              "\n",
              "    .dataframe thead th {\n",
              "        text-align: right;\n",
              "    }\n",
              "</style>\n",
              "<table border=\"1\" class=\"dataframe\">\n",
              "  <thead>\n",
              "    <tr style=\"text-align: right;\">\n",
              "      <th></th>\n",
              "      <th>actual_1</th>\n",
              "      <th>actual_0</th>\n",
              "    </tr>\n",
              "  </thead>\n",
              "  <tbody>\n",
              "    <tr>\n",
              "      <th>predicted_1</th>\n",
              "      <td>435</td>\n",
              "      <td>74</td>\n",
              "    </tr>\n",
              "    <tr>\n",
              "      <th>predicted_0</th>\n",
              "      <td>347</td>\n",
              "      <td>769</td>\n",
              "    </tr>\n",
              "  </tbody>\n",
              "</table>\n",
              "</div>"
            ],
            "text/plain": [
              "             actual_1  actual_0\n",
              "predicted_1       435        74\n",
              "predicted_0       347       769"
            ]
          },
          "metadata": {},
          "execution_count": 45
        }
      ]
    },
    {
      "cell_type": "markdown",
      "metadata": {
        "id": "gjkjiwMt7zlV"
      },
      "source": [
        "### Метрики из sklearn"
      ]
    },
    {
      "cell_type": "code",
      "metadata": {
        "colab": {
          "base_uri": "https://localhost:8080/"
        },
        "id": "s_CqN2oW70Qv",
        "outputId": "31dbfe56-5af9-4127-d47d-6efcb72b139a"
      },
      "source": [
        "model = RandomForestClassifier(n_estimators=2)\n",
        "model.fit(X_train, Y_train)"
      ],
      "execution_count": 46,
      "outputs": [
        {
          "output_type": "execute_result",
          "data": {
            "text/plain": [
              "RandomForestClassifier(bootstrap=True, ccp_alpha=0.0, class_weight=None,\n",
              "                       criterion='gini', max_depth=None, max_features='auto',\n",
              "                       max_leaf_nodes=None, max_samples=None,\n",
              "                       min_impurity_decrease=0.0, min_impurity_split=None,\n",
              "                       min_samples_leaf=1, min_samples_split=2,\n",
              "                       min_weight_fraction_leaf=0.0, n_estimators=2,\n",
              "                       n_jobs=None, oob_score=False, random_state=None,\n",
              "                       verbose=0, warm_start=False)"
            ]
          },
          "metadata": {},
          "execution_count": 46
        }
      ]
    },
    {
      "cell_type": "code",
      "metadata": {
        "colab": {
          "base_uri": "https://localhost:8080/"
        },
        "id": "rMoxNLx270w7",
        "outputId": "afcca7bd-0cfa-4776-f7dc-3196d7d9a277"
      },
      "source": [
        "met = mymetrics(confusion_matrix(model.predict(X_test), Y_test))\n",
        "print(f'Accuracy: {met[0]}\\nPrecision: {met[1]}\\nRecall: {met[2]}')"
      ],
      "execution_count": 48,
      "outputs": [
        {
          "output_type": "stream",
          "name": "stdout",
          "text": [
            "Accuracy: 0.9046153846153846\n",
            "Precision: 0.9288645690834473\n",
            "Recall: 0.8682864450127877\n"
          ]
        }
      ]
    },
    {
      "cell_type": "code",
      "metadata": {
        "colab": {
          "base_uri": "https://localhost:8080/",
          "height": 111
        },
        "id": "vgCBoQNF8wUQ",
        "outputId": "6864047e-429a-4374-d7e4-4dc87eb7d616"
      },
      "source": [
        "confusion_matrix(Y_pred, Y_test)"
      ],
      "execution_count": 49,
      "outputs": [
        {
          "output_type": "execute_result",
          "data": {
            "text/html": [
              "<div>\n",
              "<style scoped>\n",
              "    .dataframe tbody tr th:only-of-type {\n",
              "        vertical-align: middle;\n",
              "    }\n",
              "\n",
              "    .dataframe tbody tr th {\n",
              "        vertical-align: top;\n",
              "    }\n",
              "\n",
              "    .dataframe thead th {\n",
              "        text-align: right;\n",
              "    }\n",
              "</style>\n",
              "<table border=\"1\" class=\"dataframe\">\n",
              "  <thead>\n",
              "    <tr style=\"text-align: right;\">\n",
              "      <th></th>\n",
              "      <th>actual_1</th>\n",
              "      <th>actual_0</th>\n",
              "    </tr>\n",
              "  </thead>\n",
              "  <tbody>\n",
              "    <tr>\n",
              "      <th>predicted_1</th>\n",
              "      <td>435</td>\n",
              "      <td>74</td>\n",
              "    </tr>\n",
              "    <tr>\n",
              "      <th>predicted_0</th>\n",
              "      <td>347</td>\n",
              "      <td>769</td>\n",
              "    </tr>\n",
              "  </tbody>\n",
              "</table>\n",
              "</div>"
            ],
            "text/plain": [
              "             actual_1  actual_0\n",
              "predicted_1       435        74\n",
              "predicted_0       347       769"
            ]
          },
          "metadata": {},
          "execution_count": 49
        }
      ]
    },
    {
      "cell_type": "code",
      "metadata": {
        "id": "rpxx61XTDXV7"
      },
      "source": [
        ""
      ],
      "execution_count": null,
      "outputs": []
    }
  ]
}