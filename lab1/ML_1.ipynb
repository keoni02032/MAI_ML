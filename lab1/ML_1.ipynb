{
  "nbformat": 4,
  "nbformat_minor": 0,
  "metadata": {
    "colab": {
      "name": "ML_1.ipynb",
      "provenance": [],
      "collapsed_sections": []
    },
    "kernelspec": {
      "name": "python3",
      "display_name": "Python 3"
    },
    "language_info": {
      "name": "python"
    }
  },
  "cells": [
    {
      "cell_type": "code",
      "metadata": {
        "id": "_IVY80u8fS_Y"
      },
      "source": [
        "import numpy as np\n",
        "import pandas as pd\n",
        "import matplotlib.pyplot as plt\n",
        "import math\n",
        "\n",
        "import seaborn as sns\n",
        "from sklearn.model_selection import train_test_split\n",
        "from sklearn.metrics import accuracy_score\n",
        "from sklearn.neighbors import KNeighborsClassifier\n",
        "from sklearn.naive_bayes import GaussianNB"
      ],
      "execution_count": 1,
      "outputs": []
    },
    {
      "cell_type": "markdown",
      "metadata": {
        "id": "PHG2viosXvCy"
      },
      "source": [
        "Загрузили датасет"
      ]
    },
    {
      "cell_type": "code",
      "metadata": {
        "id": "Fu0enSBshAts"
      },
      "source": [
        "df = pd.read_csv('./mushrooms.csv')"
      ],
      "execution_count": 2,
      "outputs": []
    },
    {
      "cell_type": "code",
      "metadata": {
        "colab": {
          "base_uri": "https://localhost:8080/",
          "height": 274
        },
        "id": "wvgm_9ZJhOLa",
        "outputId": "6b18f743-9e07-4f15-d78e-86f1657d0a43"
      },
      "source": [
        "df.head()"
      ],
      "execution_count": 3,
      "outputs": [
        {
          "output_type": "execute_result",
          "data": {
            "text/html": [
              "<div>\n",
              "<style scoped>\n",
              "    .dataframe tbody tr th:only-of-type {\n",
              "        vertical-align: middle;\n",
              "    }\n",
              "\n",
              "    .dataframe tbody tr th {\n",
              "        vertical-align: top;\n",
              "    }\n",
              "\n",
              "    .dataframe thead th {\n",
              "        text-align: right;\n",
              "    }\n",
              "</style>\n",
              "<table border=\"1\" class=\"dataframe\">\n",
              "  <thead>\n",
              "    <tr style=\"text-align: right;\">\n",
              "      <th></th>\n",
              "      <th>class</th>\n",
              "      <th>cap-shape</th>\n",
              "      <th>cap-surface</th>\n",
              "      <th>cap-color</th>\n",
              "      <th>bruises</th>\n",
              "      <th>odor</th>\n",
              "      <th>gill-attachment</th>\n",
              "      <th>gill-spacing</th>\n",
              "      <th>gill-size</th>\n",
              "      <th>gill-color</th>\n",
              "      <th>stalk-shape</th>\n",
              "      <th>stalk-root</th>\n",
              "      <th>stalk-surface-above-ring</th>\n",
              "      <th>stalk-surface-below-ring</th>\n",
              "      <th>stalk-color-above-ring</th>\n",
              "      <th>stalk-color-below-ring</th>\n",
              "      <th>veil-type</th>\n",
              "      <th>veil-color</th>\n",
              "      <th>ring-number</th>\n",
              "      <th>ring-type</th>\n",
              "      <th>spore-print-color</th>\n",
              "      <th>population</th>\n",
              "      <th>habitat</th>\n",
              "    </tr>\n",
              "  </thead>\n",
              "  <tbody>\n",
              "    <tr>\n",
              "      <th>0</th>\n",
              "      <td>p</td>\n",
              "      <td>x</td>\n",
              "      <td>s</td>\n",
              "      <td>n</td>\n",
              "      <td>t</td>\n",
              "      <td>p</td>\n",
              "      <td>f</td>\n",
              "      <td>c</td>\n",
              "      <td>n</td>\n",
              "      <td>k</td>\n",
              "      <td>e</td>\n",
              "      <td>e</td>\n",
              "      <td>s</td>\n",
              "      <td>s</td>\n",
              "      <td>w</td>\n",
              "      <td>w</td>\n",
              "      <td>p</td>\n",
              "      <td>w</td>\n",
              "      <td>o</td>\n",
              "      <td>p</td>\n",
              "      <td>k</td>\n",
              "      <td>s</td>\n",
              "      <td>u</td>\n",
              "    </tr>\n",
              "    <tr>\n",
              "      <th>1</th>\n",
              "      <td>e</td>\n",
              "      <td>x</td>\n",
              "      <td>s</td>\n",
              "      <td>y</td>\n",
              "      <td>t</td>\n",
              "      <td>a</td>\n",
              "      <td>f</td>\n",
              "      <td>c</td>\n",
              "      <td>b</td>\n",
              "      <td>k</td>\n",
              "      <td>e</td>\n",
              "      <td>c</td>\n",
              "      <td>s</td>\n",
              "      <td>s</td>\n",
              "      <td>w</td>\n",
              "      <td>w</td>\n",
              "      <td>p</td>\n",
              "      <td>w</td>\n",
              "      <td>o</td>\n",
              "      <td>p</td>\n",
              "      <td>n</td>\n",
              "      <td>n</td>\n",
              "      <td>g</td>\n",
              "    </tr>\n",
              "    <tr>\n",
              "      <th>2</th>\n",
              "      <td>e</td>\n",
              "      <td>b</td>\n",
              "      <td>s</td>\n",
              "      <td>w</td>\n",
              "      <td>t</td>\n",
              "      <td>l</td>\n",
              "      <td>f</td>\n",
              "      <td>c</td>\n",
              "      <td>b</td>\n",
              "      <td>n</td>\n",
              "      <td>e</td>\n",
              "      <td>c</td>\n",
              "      <td>s</td>\n",
              "      <td>s</td>\n",
              "      <td>w</td>\n",
              "      <td>w</td>\n",
              "      <td>p</td>\n",
              "      <td>w</td>\n",
              "      <td>o</td>\n",
              "      <td>p</td>\n",
              "      <td>n</td>\n",
              "      <td>n</td>\n",
              "      <td>m</td>\n",
              "    </tr>\n",
              "    <tr>\n",
              "      <th>3</th>\n",
              "      <td>p</td>\n",
              "      <td>x</td>\n",
              "      <td>y</td>\n",
              "      <td>w</td>\n",
              "      <td>t</td>\n",
              "      <td>p</td>\n",
              "      <td>f</td>\n",
              "      <td>c</td>\n",
              "      <td>n</td>\n",
              "      <td>n</td>\n",
              "      <td>e</td>\n",
              "      <td>e</td>\n",
              "      <td>s</td>\n",
              "      <td>s</td>\n",
              "      <td>w</td>\n",
              "      <td>w</td>\n",
              "      <td>p</td>\n",
              "      <td>w</td>\n",
              "      <td>o</td>\n",
              "      <td>p</td>\n",
              "      <td>k</td>\n",
              "      <td>s</td>\n",
              "      <td>u</td>\n",
              "    </tr>\n",
              "    <tr>\n",
              "      <th>4</th>\n",
              "      <td>e</td>\n",
              "      <td>x</td>\n",
              "      <td>s</td>\n",
              "      <td>g</td>\n",
              "      <td>f</td>\n",
              "      <td>n</td>\n",
              "      <td>f</td>\n",
              "      <td>w</td>\n",
              "      <td>b</td>\n",
              "      <td>k</td>\n",
              "      <td>t</td>\n",
              "      <td>e</td>\n",
              "      <td>s</td>\n",
              "      <td>s</td>\n",
              "      <td>w</td>\n",
              "      <td>w</td>\n",
              "      <td>p</td>\n",
              "      <td>w</td>\n",
              "      <td>o</td>\n",
              "      <td>e</td>\n",
              "      <td>n</td>\n",
              "      <td>a</td>\n",
              "      <td>g</td>\n",
              "    </tr>\n",
              "  </tbody>\n",
              "</table>\n",
              "</div>"
            ],
            "text/plain": [
              "  class cap-shape cap-surface  ... spore-print-color population habitat\n",
              "0     p         x           s  ...                 k          s       u\n",
              "1     e         x           s  ...                 n          n       g\n",
              "2     e         b           s  ...                 n          n       m\n",
              "3     p         x           y  ...                 k          s       u\n",
              "4     e         x           s  ...                 n          a       g\n",
              "\n",
              "[5 rows x 23 columns]"
            ]
          },
          "metadata": {},
          "execution_count": 3
        }
      ]
    },
    {
      "cell_type": "code",
      "metadata": {
        "colab": {
          "base_uri": "https://localhost:8080/"
        },
        "id": "RJM9kwRDhhO8",
        "outputId": "10924794-307e-4df8-b471-b5b3266127e6"
      },
      "source": [
        "df.shape"
      ],
      "execution_count": 4,
      "outputs": [
        {
          "output_type": "execute_result",
          "data": {
            "text/plain": [
              "(8124, 23)"
            ]
          },
          "metadata": {},
          "execution_count": 4
        }
      ]
    },
    {
      "cell_type": "markdown",
      "metadata": {
        "id": "r0EIHmb-YF8H"
      },
      "source": [
        "Проверяем типы даннх и пропуски"
      ]
    },
    {
      "cell_type": "code",
      "metadata": {
        "colab": {
          "base_uri": "https://localhost:8080/"
        },
        "id": "eQJdqoq9hnI6",
        "outputId": "f43f013b-3ed6-4c8c-9838-fc0d1f40a0de"
      },
      "source": [
        "df.dtypes"
      ],
      "execution_count": 5,
      "outputs": [
        {
          "output_type": "execute_result",
          "data": {
            "text/plain": [
              "class                       object\n",
              "cap-shape                   object\n",
              "cap-surface                 object\n",
              "cap-color                   object\n",
              "bruises                     object\n",
              "odor                        object\n",
              "gill-attachment             object\n",
              "gill-spacing                object\n",
              "gill-size                   object\n",
              "gill-color                  object\n",
              "stalk-shape                 object\n",
              "stalk-root                  object\n",
              "stalk-surface-above-ring    object\n",
              "stalk-surface-below-ring    object\n",
              "stalk-color-above-ring      object\n",
              "stalk-color-below-ring      object\n",
              "veil-type                   object\n",
              "veil-color                  object\n",
              "ring-number                 object\n",
              "ring-type                   object\n",
              "spore-print-color           object\n",
              "population                  object\n",
              "habitat                     object\n",
              "dtype: object"
            ]
          },
          "metadata": {},
          "execution_count": 5
        }
      ]
    },
    {
      "cell_type": "code",
      "metadata": {
        "colab": {
          "base_uri": "https://localhost:8080/"
        },
        "id": "ace5A2Llhqao",
        "outputId": "75a592ee-32b5-428d-ca5a-fd22624e227f"
      },
      "source": [
        "df.isna().sum()"
      ],
      "execution_count": 6,
      "outputs": [
        {
          "output_type": "execute_result",
          "data": {
            "text/plain": [
              "class                       0\n",
              "cap-shape                   0\n",
              "cap-surface                 0\n",
              "cap-color                   0\n",
              "bruises                     0\n",
              "odor                        0\n",
              "gill-attachment             0\n",
              "gill-spacing                0\n",
              "gill-size                   0\n",
              "gill-color                  0\n",
              "stalk-shape                 0\n",
              "stalk-root                  0\n",
              "stalk-surface-above-ring    0\n",
              "stalk-surface-below-ring    0\n",
              "stalk-color-above-ring      0\n",
              "stalk-color-below-ring      0\n",
              "veil-type                   0\n",
              "veil-color                  0\n",
              "ring-number                 0\n",
              "ring-type                   0\n",
              "spore-print-color           0\n",
              "population                  0\n",
              "habitat                     0\n",
              "dtype: int64"
            ]
          },
          "metadata": {},
          "execution_count": 6
        }
      ]
    },
    {
      "cell_type": "markdown",
      "metadata": {
        "id": "XH4I74yenzm6"
      },
      "source": [
        "### Общая информация о дата сете (представленно описание основных свойст грибов):\n",
        "\n",
        "Информация об атрибутах: \n",
        "\n",
        "Классы: съедобные=e, ядовитые=p\n",
        "\n",
        "Форма колпачка: колокол=b,конический=c,выпуклый=x,плоский=f, шишковатый=k,затонувший=s\n",
        "\n",
        "поверхность крышки: волокнистая=f,канавки=g,чешуйчатая=y,гладкая=s\n",
        "\n",
        "Цвет кепки: коричневый=n,буфф=b,корица=c,серый=g,зеленый=r,розовый=p,фиолетовый=u,красный=e,белый=w,желтый=y\n",
        "\n",
        "Ушибы: ушибы=t,нет=f\n",
        "\n",
        "Запах: миндаль=a,анис=l,креозот=c,рыбный=y,противный=f,затхлый=m,нет=n,острый=p,пряный=s\n",
        "\n",
        "Насадка на жабры: прикреплена=a,по убыванию=d,свободна=f,зазубрена=n\n",
        "\n",
        "Расстояние между жабрами: близко=c,многолюдно=w,далеко=d\n",
        "\n",
        "Размер жабр: широкий=b,узкий=n\n",
        "\n",
        "Цвет жабр: черный=k,коричневый=n,бурый=b,шоколадный=h,серый=g, зеленый=r,оранжевый=o,розовый=p,фиолетовый=u,красный=e,белый=w,желтый=y\n",
        "\n",
        "Форма стебля: увеличивающийся=e,сужающийся=t\n",
        "\n",
        "Стебель-корень: луковичный=b,клубный=c,чашечка=u,равный=e,ризоморфы=z,корневой=r,отсутствует=?\n",
        "\n",
        "Поверхность стебля над кольцом: волокнистая=f,чешуйчатая=y,шелковистая=k,гладкая=s\n",
        "\n",
        "Поверхность стебля под кольцом: волокнистая=f,чешуйчатая=y,шелковистая=k,гладкая=s\n",
        "\n",
        "Цвет стебля над кольцом: коричневый=n,желтый=b,коричный=c,серый=g,оранжевый=o,розовый=p,красный=e,белый=w,желтый=y\n",
        "\n",
        "Цвет стебля под кольцом: коричневый=n,желтый=b,коричный=c,серый=g,оранжевый=o,розовый=p,красный=e,белый=w,желтый=y\n",
        "\n",
        "Тип вуали: частичная=p,универсальная=u\n",
        "\n",
        "Вуаль-цвет: коричневый=n,оранжевый=o,белый=w,желтый=y\n",
        "\n",
        "Номер кольца: нет=n,один=o,два=t\n",
        "\n",
        "Тип кольца: паутинный=c,мимолетный=e,вспыхивающий=f,большой=l,нет=n,подвеска=p,оболочка=s,зона=z\n",
        "\n",
        "Споровый принт-цвет: черный=k,коричневый=n,буфф=b,шоколад=h,зеленый=r,оранжевый=o,фиолетовый=u,белый=w,желтый=y\n",
        "\n",
        "Население: многочисленное=a,кластеризованное=c,многочисленное=n,рассеянное=s,несколько=v,одиночное=y\n",
        "\n",
        "Среда обитания: травы=g,листья=l,луга=m,дорожки=p,город=u,отходы=w,леса=d"
      ]
    },
    {
      "cell_type": "markdown",
      "metadata": {
        "id": "ESFNG2nRZo8u"
      },
      "source": [
        "### Удаляем все столбцы не представляющие из себя колличественне признаки"
      ]
    },
    {
      "cell_type": "code",
      "metadata": {
        "id": "R6ONjNA_iVIy"
      },
      "source": [
        "df = df.drop(columns=['veil-type'])\n",
        "df = df.drop(columns=['odor'])\n",
        "df = df.drop(columns=['cap-shape'])\n",
        "df = df.drop(columns=['cap-surface'])\n",
        "df = df.drop(columns=['cap-color'])\n",
        "df = df.drop(columns=['gill-attachment'])\n",
        "df = df.drop(columns=['stalk-root'])\n",
        "df = df.drop(columns=['stalk-surface-above-ring'])\n",
        "df = df.drop(columns=['stalk-surface-below-ring'])\n",
        "df = df.drop(columns=['stalk-color-above-ring'])\n",
        "df = df.drop(columns=['gill-color'])\n",
        "df = df.drop(columns=['stalk-color-below-ring'])\n",
        "df = df.drop(columns=['veil-color'])\n",
        "df = df.drop(columns=['ring-type'])\n",
        "df = df.drop(columns=['spore-print-color'])\n",
        "df = df.drop(columns=['population'])\n",
        "df = df.drop(columns=['habitat'])"
      ],
      "execution_count": 7,
      "outputs": []
    },
    {
      "cell_type": "code",
      "metadata": {
        "colab": {
          "base_uri": "https://localhost:8080/",
          "height": 418
        },
        "id": "C9_re9emjuOP",
        "outputId": "df056d25-8132-4f18-eeb7-c761bb9df417"
      },
      "source": [
        "df"
      ],
      "execution_count": 8,
      "outputs": [
        {
          "output_type": "execute_result",
          "data": {
            "text/html": [
              "<div>\n",
              "<style scoped>\n",
              "    .dataframe tbody tr th:only-of-type {\n",
              "        vertical-align: middle;\n",
              "    }\n",
              "\n",
              "    .dataframe tbody tr th {\n",
              "        vertical-align: top;\n",
              "    }\n",
              "\n",
              "    .dataframe thead th {\n",
              "        text-align: right;\n",
              "    }\n",
              "</style>\n",
              "<table border=\"1\" class=\"dataframe\">\n",
              "  <thead>\n",
              "    <tr style=\"text-align: right;\">\n",
              "      <th></th>\n",
              "      <th>class</th>\n",
              "      <th>bruises</th>\n",
              "      <th>gill-spacing</th>\n",
              "      <th>gill-size</th>\n",
              "      <th>stalk-shape</th>\n",
              "      <th>ring-number</th>\n",
              "    </tr>\n",
              "  </thead>\n",
              "  <tbody>\n",
              "    <tr>\n",
              "      <th>0</th>\n",
              "      <td>p</td>\n",
              "      <td>t</td>\n",
              "      <td>c</td>\n",
              "      <td>n</td>\n",
              "      <td>e</td>\n",
              "      <td>o</td>\n",
              "    </tr>\n",
              "    <tr>\n",
              "      <th>1</th>\n",
              "      <td>e</td>\n",
              "      <td>t</td>\n",
              "      <td>c</td>\n",
              "      <td>b</td>\n",
              "      <td>e</td>\n",
              "      <td>o</td>\n",
              "    </tr>\n",
              "    <tr>\n",
              "      <th>2</th>\n",
              "      <td>e</td>\n",
              "      <td>t</td>\n",
              "      <td>c</td>\n",
              "      <td>b</td>\n",
              "      <td>e</td>\n",
              "      <td>o</td>\n",
              "    </tr>\n",
              "    <tr>\n",
              "      <th>3</th>\n",
              "      <td>p</td>\n",
              "      <td>t</td>\n",
              "      <td>c</td>\n",
              "      <td>n</td>\n",
              "      <td>e</td>\n",
              "      <td>o</td>\n",
              "    </tr>\n",
              "    <tr>\n",
              "      <th>4</th>\n",
              "      <td>e</td>\n",
              "      <td>f</td>\n",
              "      <td>w</td>\n",
              "      <td>b</td>\n",
              "      <td>t</td>\n",
              "      <td>o</td>\n",
              "    </tr>\n",
              "    <tr>\n",
              "      <th>...</th>\n",
              "      <td>...</td>\n",
              "      <td>...</td>\n",
              "      <td>...</td>\n",
              "      <td>...</td>\n",
              "      <td>...</td>\n",
              "      <td>...</td>\n",
              "    </tr>\n",
              "    <tr>\n",
              "      <th>8119</th>\n",
              "      <td>e</td>\n",
              "      <td>f</td>\n",
              "      <td>c</td>\n",
              "      <td>b</td>\n",
              "      <td>e</td>\n",
              "      <td>o</td>\n",
              "    </tr>\n",
              "    <tr>\n",
              "      <th>8120</th>\n",
              "      <td>e</td>\n",
              "      <td>f</td>\n",
              "      <td>c</td>\n",
              "      <td>b</td>\n",
              "      <td>e</td>\n",
              "      <td>o</td>\n",
              "    </tr>\n",
              "    <tr>\n",
              "      <th>8121</th>\n",
              "      <td>e</td>\n",
              "      <td>f</td>\n",
              "      <td>c</td>\n",
              "      <td>b</td>\n",
              "      <td>e</td>\n",
              "      <td>o</td>\n",
              "    </tr>\n",
              "    <tr>\n",
              "      <th>8122</th>\n",
              "      <td>p</td>\n",
              "      <td>f</td>\n",
              "      <td>c</td>\n",
              "      <td>n</td>\n",
              "      <td>t</td>\n",
              "      <td>o</td>\n",
              "    </tr>\n",
              "    <tr>\n",
              "      <th>8123</th>\n",
              "      <td>e</td>\n",
              "      <td>f</td>\n",
              "      <td>c</td>\n",
              "      <td>b</td>\n",
              "      <td>e</td>\n",
              "      <td>o</td>\n",
              "    </tr>\n",
              "  </tbody>\n",
              "</table>\n",
              "<p>8124 rows × 6 columns</p>\n",
              "</div>"
            ],
            "text/plain": [
              "     class bruises gill-spacing gill-size stalk-shape ring-number\n",
              "0        p       t            c         n           e           o\n",
              "1        e       t            c         b           e           o\n",
              "2        e       t            c         b           e           o\n",
              "3        p       t            c         n           e           o\n",
              "4        e       f            w         b           t           o\n",
              "...    ...     ...          ...       ...         ...         ...\n",
              "8119     e       f            c         b           e           o\n",
              "8120     e       f            c         b           e           o\n",
              "8121     e       f            c         b           e           o\n",
              "8122     p       f            c         n           t           o\n",
              "8123     e       f            c         b           e           o\n",
              "\n",
              "[8124 rows x 6 columns]"
            ]
          },
          "metadata": {},
          "execution_count": 8
        }
      ]
    },
    {
      "cell_type": "markdown",
      "metadata": {
        "id": "kgj0qHayZ8qY"
      },
      "source": [
        "### Столбцы означающие колличественное значение преобразуем из букв в цифры."
      ]
    },
    {
      "cell_type": "code",
      "metadata": {
        "id": "t2k0omVLn0aa"
      },
      "source": [
        "cla = {'e': 0, 'p': 1}\n",
        "bruises = {'t': 0, 'f': 1}\n",
        "g_spacing = {'c': 0, 'w': 1, 'd': 2}\n",
        "g_size = {'b': 0, 'n': 1}\n",
        "s_shape = {'e': 0, 't': 1}\n",
        "r_number = {'n': 0, 'o': 1, 't': 2}\n",
        "\n",
        "for df_d in [df]:\n",
        "    df_d['class'] = df_d['class'].map(cla)\n",
        "    df_d['bruises'] = df_d['bruises'].map(bruises)\n",
        "    df_d['gill-spacing'] = df_d['gill-spacing'].map(g_spacing)\n",
        "    df_d['gill-size'] = df_d['gill-size'].map(g_size)\n",
        "    df_d['stalk-shape'] = df_d['stalk-shape'].map(s_shape)\n",
        "    df_d['ring-number'] = df_d['ring-number'].map(r_number)"
      ],
      "execution_count": 9,
      "outputs": []
    },
    {
      "cell_type": "code",
      "metadata": {
        "colab": {
          "base_uri": "https://localhost:8080/",
          "height": 418
        },
        "id": "mDgWurIZ1ShN",
        "outputId": "38bc8d50-ae52-45d0-a148-f3fa831fd48f"
      },
      "source": [
        "df"
      ],
      "execution_count": 10,
      "outputs": [
        {
          "output_type": "execute_result",
          "data": {
            "text/html": [
              "<div>\n",
              "<style scoped>\n",
              "    .dataframe tbody tr th:only-of-type {\n",
              "        vertical-align: middle;\n",
              "    }\n",
              "\n",
              "    .dataframe tbody tr th {\n",
              "        vertical-align: top;\n",
              "    }\n",
              "\n",
              "    .dataframe thead th {\n",
              "        text-align: right;\n",
              "    }\n",
              "</style>\n",
              "<table border=\"1\" class=\"dataframe\">\n",
              "  <thead>\n",
              "    <tr style=\"text-align: right;\">\n",
              "      <th></th>\n",
              "      <th>class</th>\n",
              "      <th>bruises</th>\n",
              "      <th>gill-spacing</th>\n",
              "      <th>gill-size</th>\n",
              "      <th>stalk-shape</th>\n",
              "      <th>ring-number</th>\n",
              "    </tr>\n",
              "  </thead>\n",
              "  <tbody>\n",
              "    <tr>\n",
              "      <th>0</th>\n",
              "      <td>1</td>\n",
              "      <td>0</td>\n",
              "      <td>0</td>\n",
              "      <td>1</td>\n",
              "      <td>0</td>\n",
              "      <td>1</td>\n",
              "    </tr>\n",
              "    <tr>\n",
              "      <th>1</th>\n",
              "      <td>0</td>\n",
              "      <td>0</td>\n",
              "      <td>0</td>\n",
              "      <td>0</td>\n",
              "      <td>0</td>\n",
              "      <td>1</td>\n",
              "    </tr>\n",
              "    <tr>\n",
              "      <th>2</th>\n",
              "      <td>0</td>\n",
              "      <td>0</td>\n",
              "      <td>0</td>\n",
              "      <td>0</td>\n",
              "      <td>0</td>\n",
              "      <td>1</td>\n",
              "    </tr>\n",
              "    <tr>\n",
              "      <th>3</th>\n",
              "      <td>1</td>\n",
              "      <td>0</td>\n",
              "      <td>0</td>\n",
              "      <td>1</td>\n",
              "      <td>0</td>\n",
              "      <td>1</td>\n",
              "    </tr>\n",
              "    <tr>\n",
              "      <th>4</th>\n",
              "      <td>0</td>\n",
              "      <td>1</td>\n",
              "      <td>1</td>\n",
              "      <td>0</td>\n",
              "      <td>1</td>\n",
              "      <td>1</td>\n",
              "    </tr>\n",
              "    <tr>\n",
              "      <th>...</th>\n",
              "      <td>...</td>\n",
              "      <td>...</td>\n",
              "      <td>...</td>\n",
              "      <td>...</td>\n",
              "      <td>...</td>\n",
              "      <td>...</td>\n",
              "    </tr>\n",
              "    <tr>\n",
              "      <th>8119</th>\n",
              "      <td>0</td>\n",
              "      <td>1</td>\n",
              "      <td>0</td>\n",
              "      <td>0</td>\n",
              "      <td>0</td>\n",
              "      <td>1</td>\n",
              "    </tr>\n",
              "    <tr>\n",
              "      <th>8120</th>\n",
              "      <td>0</td>\n",
              "      <td>1</td>\n",
              "      <td>0</td>\n",
              "      <td>0</td>\n",
              "      <td>0</td>\n",
              "      <td>1</td>\n",
              "    </tr>\n",
              "    <tr>\n",
              "      <th>8121</th>\n",
              "      <td>0</td>\n",
              "      <td>1</td>\n",
              "      <td>0</td>\n",
              "      <td>0</td>\n",
              "      <td>0</td>\n",
              "      <td>1</td>\n",
              "    </tr>\n",
              "    <tr>\n",
              "      <th>8122</th>\n",
              "      <td>1</td>\n",
              "      <td>1</td>\n",
              "      <td>0</td>\n",
              "      <td>1</td>\n",
              "      <td>1</td>\n",
              "      <td>1</td>\n",
              "    </tr>\n",
              "    <tr>\n",
              "      <th>8123</th>\n",
              "      <td>0</td>\n",
              "      <td>1</td>\n",
              "      <td>0</td>\n",
              "      <td>0</td>\n",
              "      <td>0</td>\n",
              "      <td>1</td>\n",
              "    </tr>\n",
              "  </tbody>\n",
              "</table>\n",
              "<p>8124 rows × 6 columns</p>\n",
              "</div>"
            ],
            "text/plain": [
              "      class  bruises  gill-spacing  gill-size  stalk-shape  ring-number\n",
              "0         1        0             0          1            0            1\n",
              "1         0        0             0          0            0            1\n",
              "2         0        0             0          0            0            1\n",
              "3         1        0             0          1            0            1\n",
              "4         0        1             1          0            1            1\n",
              "...     ...      ...           ...        ...          ...          ...\n",
              "8119      0        1             0          0            0            1\n",
              "8120      0        1             0          0            0            1\n",
              "8121      0        1             0          0            0            1\n",
              "8122      1        1             0          1            1            1\n",
              "8123      0        1             0          0            0            1\n",
              "\n",
              "[8124 rows x 6 columns]"
            ]
          },
          "metadata": {},
          "execution_count": 10
        }
      ]
    },
    {
      "cell_type": "markdown",
      "metadata": {
        "id": "3Gnvt6oVecMr"
      },
      "source": [
        "### Разбиваем дата сет на тестовые и тренировочные данные."
      ]
    },
    {
      "cell_type": "code",
      "metadata": {
        "id": "jwYXQtTqj8Y-"
      },
      "source": [
        "X_train, X_test, Y_train, Y_test = train_test_split(df.drop('class', axis=1), df['class'], test_size=0.2, random_state=42)"
      ],
      "execution_count": 12,
      "outputs": []
    },
    {
      "cell_type": "code",
      "metadata": {
        "colab": {
          "base_uri": "https://localhost:8080/"
        },
        "id": "xY5JXvaJkv7K",
        "outputId": "b560f267-ea1b-448b-9e8c-85fdf1f5f050"
      },
      "source": [
        "X_train.shape"
      ],
      "execution_count": 13,
      "outputs": [
        {
          "output_type": "execute_result",
          "data": {
            "text/plain": [
              "(6499, 5)"
            ]
          },
          "metadata": {},
          "execution_count": 13
        }
      ]
    },
    {
      "cell_type": "code",
      "metadata": {
        "colab": {
          "base_uri": "https://localhost:8080/"
        },
        "id": "UAbf0-fXlxMt",
        "outputId": "fb995875-356f-48b5-a75f-84ce4e6e94a6"
      },
      "source": [
        "X_test.shape"
      ],
      "execution_count": 14,
      "outputs": [
        {
          "output_type": "execute_result",
          "data": {
            "text/plain": [
              "(1625, 5)"
            ]
          },
          "metadata": {},
          "execution_count": 14
        }
      ]
    },
    {
      "cell_type": "markdown",
      "metadata": {
        "id": "CGXsTxLvelUk"
      },
      "source": [
        "### Реализуем KNN и сравниваем результаты с работой модуля sklearn."
      ]
    },
    {
      "cell_type": "code",
      "metadata": {
        "id": "sVvtaJysl0yW"
      },
      "source": [
        "class KNNClassifier:\n",
        "  def __init__(self, neighbours = 5):\n",
        "    self.neighbours = neighbours\n",
        "\n",
        "  def fit(self, data, labels):\n",
        "    self.data = data\n",
        "    self.labels = labels\n",
        "    self.number_of_labels = len(np.unique(labels))\n",
        "\n",
        "  def predict(self, item):\n",
        "    distances = np.sum((item[np.newaxis, :] - self.data[:]) ** 2, axis = 1)\n",
        "    nearest = np.argsort(distances)\n",
        "    scores = np.zeros(self.number_of_labels)\n",
        "    for i in range(self.neighbours):\n",
        "        if distances[nearest[i]] == 0:\n",
        "          return self.labels[nearest[i]]\n",
        "        else:\n",
        "          weight = 1 / distances[nearest[i]]\n",
        "        scores[self.labels[nearest[i]]] += weight     \n",
        "    return scores.argmax()    \n",
        "  "
      ],
      "execution_count": 15,
      "outputs": []
    },
    {
      "cell_type": "code",
      "metadata": {
        "id": "gW4mjZJVVoGp",
        "colab": {
          "base_uri": "https://localhost:8080/"
        },
        "outputId": "29c99137-916d-4414-cb0a-ac50b30f33e6"
      },
      "source": [
        "accuracy = []\n",
        "for i in range(1, 100):\n",
        "  results = []\n",
        "  x = KNNClassifier(i)\n",
        "  x.fit(X_train.to_numpy(), Y_train.to_numpy())\n",
        "  for j in range(len(Y_test)):\n",
        "    results.append(x.predict(X_test.iloc[j, :].to_numpy()))\n",
        "  counter = 0\n",
        "  for j in range(len(Y_test)):\n",
        "    if results[j] == Y_test.iloc[j]:\n",
        "        counter += 1\n",
        "  accuracy.append(accuracy_score(Y_test, results))\n",
        "\n",
        "print(f'accuracy KNN: {max(accuracy)}')"
      ],
      "execution_count": 16,
      "outputs": [
        {
          "output_type": "stream",
          "name": "stdout",
          "text": [
            "accuracy KNN: 0.9046153846153846\n"
          ]
        }
      ]
    },
    {
      "cell_type": "code",
      "metadata": {
        "colab": {
          "base_uri": "https://localhost:8080/"
        },
        "id": "nUDSJ3-yWFt_",
        "outputId": "169825d6-7f3b-400f-9d56-9853c9c3901d"
      },
      "source": [
        "accuracy = []\n",
        "for i in range(2, 100):\n",
        "  model = KNeighborsClassifier(n_neighbors=i, weights='distance')\n",
        "  model.fit(X_train, Y_train)\n",
        "  accuracy.append(model.score(X_test, Y_test))\n",
        "\n",
        "print(f'accuracy for sklearn\\'s KNN: {max(accuracy)}')"
      ],
      "execution_count": 17,
      "outputs": [
        {
          "output_type": "stream",
          "name": "stdout",
          "text": [
            "accuracy for sklearn's KNN: 0.9046153846153846\n"
          ]
        }
      ]
    },
    {
      "cell_type": "markdown",
      "metadata": {
        "id": "RgGMYN91e6PZ"
      },
      "source": [
        "### Реализуем наивный Байесовский классификатор и сравниваем с работой модуля sklearn."
      ]
    },
    {
      "cell_type": "code",
      "metadata": {
        "id": "qP1GGzqNcf-3"
      },
      "source": [
        "class NaiveBayesClassifier:\n",
        "    def __init__(self):\n",
        "        pass\n",
        "\n",
        "    def get_probabilities(self, class_idx: int, x: np.array) -> np.array:\n",
        "        mean = self.mean_cond_class[class_idx]\n",
        "        var = self.var_cond_class[class_idx]\n",
        "        exponent = np.exp((-1/2) * ((x-mean)**2) / (2 * var))\n",
        "        probabilities = exponent / np.sqrt(2 * np.pi * var)\n",
        "        return probabilities\n",
        "\n",
        "    def get_posterior(self, x: np.array) -> int:\n",
        "        posteriors = []\n",
        "        for class_idx in range(self.num_of_classes):\n",
        "            prior = np.log(self.prior[class_idx])\n",
        "            conditional = np.sum(np.log(self.get_probabilities(class_idx, x)))\n",
        "            posterior = prior + conditional\n",
        "            posteriors.append(posterior)\n",
        "        return self.classes[np.argmax(posteriors)]\n",
        "\n",
        "    def fit(self, X_train, Y_train):\n",
        "        self.classes = np.unique(Y_test)\n",
        "        self.num_of_classes = len(self.classes)\n",
        "        \n",
        "        self.mean_cond_class = X_train.groupby(Y_train).apply(np.mean).to_numpy()\n",
        "        self.var_cond_class = X_train.groupby(Y_train).apply(np.var).to_numpy()\n",
        "\n",
        "        self.prior = X_train.groupby(Y_train).apply(lambda col: len(col))\n",
        "        self.prior = np.array(self.prior / len(Y_train))\n",
        "        \n",
        "    def predict(self, X_test):\n",
        "        Y_pred = [self.get_posterior(f) for f in X_test.to_numpy()]\n",
        "        return Y_pred\n",
        "    \n",
        "    def accuracy_score(self, Y_test, Y_pred):\n",
        "\t    return sum(Y_pred == Y_test) / len(Y_test)"
      ],
      "execution_count": 18,
      "outputs": []
    },
    {
      "cell_type": "code",
      "metadata": {
        "colab": {
          "base_uri": "https://localhost:8080/"
        },
        "id": "QStWMaU4qXLv",
        "outputId": "233cb0a5-e52f-403f-b594-77a94b9d10cd"
      },
      "source": [
        "nbc = NaiveBayesClassifier()\n",
        "nbc.fit(X_train, Y_train)\n",
        "Y_pred = nbc.predict(X_test)\n",
        "print(f'Accuracy of custom Naive Bayes: {nbc.accuracy_score(Y_test, Y_pred)}')"
      ],
      "execution_count": 19,
      "outputs": [
        {
          "output_type": "stream",
          "name": "stdout",
          "text": [
            "Accuracy of custom Naive Bayes: 0.8935384615384615\n"
          ]
        }
      ]
    },
    {
      "cell_type": "code",
      "metadata": {
        "colab": {
          "base_uri": "https://localhost:8080/"
        },
        "id": "NJyLueWbqbXG",
        "outputId": "fef65d33-9ea2-424a-f056-c61ce8a39553"
      },
      "source": [
        "from sklearn.naive_bayes import GaussianNB\n",
        "model = GaussianNB()\n",
        "model.fit(X_train, Y_train)\n",
        "model.score(X_test, Y_test)"
      ],
      "execution_count": 20,
      "outputs": [
        {
          "output_type": "execute_result",
          "data": {
            "text/plain": [
              "0.8935384615384615"
            ]
          },
          "metadata": {},
          "execution_count": 20
        }
      ]
    },
    {
      "cell_type": "code",
      "metadata": {
        "id": "vcFrn-MyqhGv"
      },
      "source": [
        ""
      ],
      "execution_count": 20,
      "outputs": []
    }
  ]
}